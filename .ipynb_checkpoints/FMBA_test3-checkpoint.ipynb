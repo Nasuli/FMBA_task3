{
 "cells": [
  {
   "cell_type": "markdown",
   "id": "bde97e23-b961-4479-9034-93d60d5ee338",
   "metadata": {},
   "source": [
    "# Предварительный этап."
   ]
  },
  {
   "cell_type": "markdown",
   "id": "6a88976d-fedb-4a1c-b870-69cce471e5e7",
   "metadata": {},
   "source": [
    "### Шаг 1. Подготовить FP_SNPs_10k_GB38_twoAllelsFormat.tsv файл."
   ]
  },
  {
   "cell_type": "markdown",
   "id": "b1c69688-8fe0-4cb4-b410-263e04878409",
   "metadata": {},
   "source": [
    "1. Скачиваем и извлекаем из архива файл **FP_SNPs.txt** по схеме, представленной в пояснительной части тестового задания.\n",
    "2. Создаём шаблон финального файла **FP_SNPs_10k_GB38_twoAllelsFormat.tsv** и добавляем в него правильные заголовки:"
   ]
  },
  {
   "cell_type": "code",
   "execution_count": null,
   "id": "38c0a263-503f-49d2-8f37-5c83d35485ef",
   "metadata": {},
   "outputs": [],
   "source": [
    "echo -e \"#CHROM\\tPOS\\tID\\tallele1\\tallele2\" > FP_SNPs_10k_GB38_twoAllelsFormat.tsv"
   ]
  },
  {
   "cell_type": "markdown",
   "id": "7b655f2d-8633-46e4-b007-13067c55963a",
   "metadata": {},
   "source": [
    "3. Преобразуем оригинальный FP_SNPs.txt файл и записываем скорректированные данные в финальный файл:"
   ]
  },
  {
   "cell_type": "code",
   "execution_count": null,
   "id": "b6f1b4df-1b94-4eec-a597-44fe349399f7",
   "metadata": {},
   "outputs": [],
   "source": [
    "awk '{print $2, $4, $1, $5, $6}' FP_SNPs.txt | awk '{print $1=\"chr\"$1, $2, $3=\"rs\"$3, $4, $5}' | head -n -1000 | sed '1d' | tr ' ' '\\t' >> FP_SNPs_10k_GB38_twoAllelsFormat.tsv \n",
    "# select desired columns -> add prefixes (chr, rs) -> remove last 1000 rows (chr23) -> remove 1st line (column names) -> replace space-delimination to TABs ->> write modified table into FP_SNPs_10k_GB38_twoAllelsFormat.tsv \n"
   ]
  },
  {
   "cell_type": "markdown",
   "id": "5e1a9cb5-c473-4bc9-a150-2615af940c10",
   "metadata": {},
   "source": [
    "### Шаг  2. Подготовить отдельные референсы для каждой хромосомы."
   ]
  },
  {
   "cell_type": "code",
   "execution_count": null,
   "id": "6aaa0a59-24ff-4ccb-9423-234a2d5ee0c5",
   "metadata": {},
   "outputs": [],
   "source": [
    " for i in (1..22, X, Y, M); do\n",
    "\tgo to GRCh38.d1.vd1.fa\n",
    "\tselect lines related to header (chr$i) and up to the next chromosome\n",
    "\twrite lines into a new file 'chr$i.fai'\n",
    "\tdo indexing of 'chr$i.fai'\n",
    " done"
   ]
  },
  {
   "cell_type": "markdown",
   "id": "6f0cc0ac-0930-4c92-bfea-3c882ce6ccb7",
   "metadata": {},
   "source": [
    "# Основной этап."
   ]
  },
  {
   "cell_type": "markdown",
   "id": "6a759dc5-e3e3-4acd-bb99-4fbeaabf8972",
   "metadata": {},
   "source": [
    "Необходимо выяснить, какой из двух аллелей является референсным, а какой – альтернативным."
   ]
  },
  {
   "cell_type": "markdown",
   "id": "d612f280-af22-4b56-bb40-d7325b3525e1",
   "metadata": {},
   "source": [
    "Аргументы командной строки:"
   ]
  },
  {
   "cell_type": "code",
   "execution_count": null,
   "id": "879a7140-fa86-42aa-942b-0727e1ced0ef",
   "metadata": {},
   "outputs": [],
   "source": [
    "InputTable # FP_SNPs_10k_GB38_twoAllelsFormat.tsv \n",
    "InputReference # Path to folder with references\n",
    "OutputTable # output file name"
   ]
  },
  {
   "cell_type": "markdown",
   "id": "9a6bc24b-57f9-4616-a760-7b77cd746a2c",
   "metadata": {},
   "source": [
    "#### Принцип работы скрипта:"
   ]
  },
  {
   "cell_type": "markdown",
   "id": "425ecaf5-c763-420e-93ed-9422c90bf20e",
   "metadata": {},
   "source": [
    "Проверить аргументы:"
   ]
  },
  {
   "cell_type": "code",
   "execution_count": null,
   "id": "7260df9c-e5fa-47bb-8550-4f6877358bc6",
   "metadata": {},
   "outputs": [],
   "source": [
    "{\n",
    "\targ is not empty\n",
    "\targ has the right extention\n",
    "\targ file structure is correct\n",
    "}"
   ]
  },
  {
   "cell_type": "markdown",
   "id": "6dd132a5-6169-4104-aaf7-140cfd90c604",
   "metadata": {},
   "source": [
    "Основная часть (после проверок аргументов командной строки) # explain what happens here"
   ]
  },
  {
   "cell_type": "code",
   "execution_count": null,
   "id": "f7d2f07b-f926-4318-8245-b797a0ab9ce5",
   "metadata": {},
   "outputs": [],
   "source": [
    "{\n",
    " for i in (1..22); do\n",
    "\tstr ChromosomeNumber = 'chr' + $i # make a string like 'chr1'\n",
    "\tFP_SNPs_$ChromosomeNumber.tsv # make a temporary table 'FP_SNPs_$ChromosomeNumber.tsv' for one chromosome\n",
    "\tFP_SNPs_$ChromosomeNumber.tsv # copy rows related to $ChromosomeNumber from 'FP_SNPs_10k_GB38_twoAllelsFormat.tsv' to 'FP_SNPs_$ChromosomeNumber.tsv'\n",
    "\tint RowsNumber = count 'number of rows' in FP_SNPs_$ChromosomeNumber.tsv\n",
    "\tint ErrorRowsNumber = 0 # используется для подсчёта позиций на хромосоме $ChromosomeNumber, где не удалось определить референсный аллель\n",
    "    str RefGenome = .../$ChromosomeNumber.fai # go to $InputReference path and select referehce, related to $ChromosomeNumber\n",
    "\n",
    "\tfor line in (1..$RowsNumber); do\n",
    "\t{\n",
    "\t\tint POS = ... # select POS on $line from FP_SNPs_$ChromosomeNumber.tsv\n",
    "\t\tstr Allele1 = ... # select allele1 on $line from FP_SNPs_$ChromosomeNumber.tsv\n",
    "\t\tstr Allele2 = ... # select allele2 on $line from FP_SNPs_$ChromosomeNumber.tsv\n",
    "\t\tstr ID = ... # select ID on $line from FP_SNPs_$ChromosomeNumber.tsv\n",
    "\n",
    "       !!! str RefNucl = ... # select nucleotide on position $POS in reference genome\n",
    "\t\t\n",
    "\t\t# Для каждой позиции $POS из FP_SNPs_$ChromosomeNumber.tsv\n",
    "        # последовательно сравниваем нуклеотид на этой позиции в референсе RefNucl с allele1 и allele2\n",
    "\t\t\n",
    "\t\tif RefNucl == Allele1 \n",
    "\t\t{\n",
    "\t\tstr REF == Allele1 \n",
    "\t\tstr ALT == Allele2\n",
    "\t\tЗаписываем в новую таблицу строку, содержащую $ChromosomeNumber, $POS, $ID, $REF, $ALT\n",
    "\t\t}\n",
    "\t\telse if RefNucl == Allele2\n",
    "\t\t{\n",
    "\t\tstr REF == Allele2\n",
    "\t\tstr ALT == Allele1\n",
    "\t\tЗаписываем в новую таблицу строку, содержащую $ChromosomeNumber, $POS, $ID, $REF, $ALT\n",
    "\t\t}\n",
    "\t\telse\n",
    "\t\t{\n",
    "\t\tAdd to log: \"ERROR: reference nucleotide on the $ChromosomeNumber , position $POS differs from the input table ($InputTable)\"\n",
    "        ErrorRowsNumber += 1    \n",
    "\t\t}\n",
    "\t\t\n",
    "\t\t\n",
    "\t\t\n",
    "\t\t\n",
    "\t}\n",
    "\t\n",
    "\t\n",
    "}"
   ]
  },
  {
   "cell_type": "markdown",
   "id": "d06aebc9-1554-4019-a6d7-2cb9f7f32c9c",
   "metadata": {},
   "source": [
    "#### Сообщение, выдаваемое скриптом для описания себя и своих аргументов по запросу (-h, --help)"
   ]
  },
  {
   "cell_type": "code",
   "execution_count": null,
   "id": "4a7d2c1c-b1c3-40b7-a268-b7c95f088c3b",
   "metadata": {},
   "outputs": [],
   "source": []
  }
 ],
 "metadata": {
  "kernelspec": {
   "display_name": "Python 3 (ipykernel)",
   "language": "python",
   "name": "python3"
  },
  "language_info": {
   "codemirror_mode": {
    "name": "ipython",
    "version": 3
   },
   "file_extension": ".py",
   "mimetype": "text/x-python",
   "name": "python",
   "nbconvert_exporter": "python",
   "pygments_lexer": "ipython3",
   "version": "3.10.12"
  }
 },
 "nbformat": 4,
 "nbformat_minor": 5
}
