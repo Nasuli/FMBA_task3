{
 "cells": [
  {
   "cell_type": "markdown",
   "id": "bde97e23-b961-4479-9034-93d60d5ee338",
   "metadata": {},
   "source": [
    "# Предварительный этап."
   ]
  },
  {
   "cell_type": "markdown",
   "id": "6a88976d-fedb-4a1c-b870-69cce471e5e7",
   "metadata": {},
   "source": [
    "### Шаг 1. Подготовить файл с набором SNPs (FP_SNPs_10k_GB38_twoAllelsFormat.tsv)."
   ]
  },
  {
   "cell_type": "markdown",
   "id": "b1c69688-8fe0-4cb4-b410-263e04878409",
   "metadata": {},
   "source": [
    "1. Скачиваем и извлекаем из архива файл **FP_SNPs.txt** по схеме, представленной в пояснительной части тестового задания.\n",
    "2. Создаём шаблон финального файла **FP_SNPs_10k_GB38_twoAllelsFormat.tsv** и добавляем в него правильные заголовки:"
   ]
  },
  {
   "cell_type": "code",
   "execution_count": null,
   "id": "38c0a263-503f-49d2-8f37-5c83d35485ef",
   "metadata": {},
   "outputs": [],
   "source": [
    "echo -e \"#CHROM\\tPOS\\tID\\tallele1\\tallele2\" > FP_SNPs_10k_GB38_twoAllelsFormat.tsv"
   ]
  },
  {
   "cell_type": "markdown",
   "id": "7b655f2d-8633-46e4-b007-13067c55963a",
   "metadata": {},
   "source": [
    "3. Преобразуем оригинальный файл FP_SNPs.txt и записываем скорректированные данные в финальный файл:"
   ]
  },
  {
   "cell_type": "code",
   "execution_count": null,
   "id": "b6f1b4df-1b94-4eec-a597-44fe349399f7",
   "metadata": {},
   "outputs": [],
   "source": [
    "awk '{print $2, $4, $1, $5, $6}' FP_SNPs.txt | awk '{print $1=\"chr\"$1, $2, $3=\"rs\"$3, $4, $5}' | head -n -1000 | sed '1d' | tr ' ' '\\t' >> FP_SNPs_10k_GB38_twoAllelsFormat.tsv \n",
    "# select desired columns -> add prefixes (chr, rs) -> remove last 1000 rows (chr23) -> remove 1st line (column names) -> replace space-delimination to TABs ->> write modified table into final file.\n"
   ]
  },
  {
   "cell_type": "markdown",
   "id": "5e1a9cb5-c473-4bc9-a150-2615af940c10",
   "metadata": {},
   "source": [
    "### Шаг  2. Подготовить отдельные референсы для каждой хромосомы."
   ]
  },
  {
   "cell_type": "code",
   "execution_count": null,
   "id": "6aaa0a59-24ff-4ccb-9423-234a2d5ee0c5",
   "metadata": {},
   "outputs": [],
   "source": [
    "# pseudocode\n",
    "for i in (1..22, X, Y, M); do\n",
    "\tgo to GRCh38.d1.vd1.fa\n",
    "\tselect lines related to header (chr$i) and up to the next chromosome\n",
    "\twrite lines into a new file 'chr$i.fai'\n",
    "\tdo indexing of 'chr$i.fai'\n",
    "done"
   ]
  },
  {
   "cell_type": "markdown",
   "id": "6f0cc0ac-0930-4c92-bfea-3c882ce6ccb7",
   "metadata": {},
   "source": [
    "# Основной этап."
   ]
  },
  {
   "cell_type": "markdown",
   "id": "6a759dc5-e3e3-4acd-bb99-4fbeaabf8972",
   "metadata": {},
   "source": [
    "## Запуск скрипта:"
   ]
  },
  {
   "cell_type": "code",
   "execution_count": null,
   "id": "92471ecd-41d9-4320-a285-d27b2e7869a7",
   "metadata": {},
   "outputs": [],
   "source": [
    "findAlternative.py -i input_tsv_table -o output_filename "
   ]
  },
  {
   "cell_type": "markdown",
   "id": "00ff1f5c-2911-478b-8060-000be24ff5d7",
   "metadata": {},
   "source": [
    "## Содержимое скрипта:"
   ]
  },
  {
   "cell_type": "markdown",
   "id": "425ecaf5-c763-420e-93ed-9422c90bf20e",
   "metadata": {},
   "source": [
    "### Порверка аргументов командной строки:"
   ]
  },
  {
   "cell_type": "code",
   "execution_count": null,
   "id": "b705b8d9-b57c-44a3-9c97-fc6a82bc9180",
   "metadata": {},
   "outputs": [],
   "source": [
    "print \"[$current_time_and_date]: Run the script.\" -> add to log file"
   ]
  },
  {
   "cell_type": "code",
   "execution_count": null,
   "id": "7260df9c-e5fa-47bb-8550-4f6877358bc6",
   "metadata": {},
   "outputs": [],
   "source": [
    "print \"[$current_time_and_date]: Check agguments.\" -> add to log file\n",
    "1. input and output arguments are not empty.\n",
    "    if $input_tsv_table OR $output_filename is empty:\n",
    "        ptint \"Error: missing argument for Input or Output. Please, add tsv table as an input argument and write output file name\"\n",
    "        add error message in log file\n",
    "        return help desctiption\n",
    "        break\n",
    "    else\n",
    "        add to log file: \"Test 1/4: OK.\"\n",
    "        continue\n",
    "\n",
    "2. $input_tsv_table has the right extention (tsv)\n",
    "    if $input_tsv_table has another extention:\n",
    "        ptint \"Error: wrong extention for Input table. Please, change it to tsv or use another file\"\n",
    "        add error message in log file\n",
    "        return help desctiption\n",
    "        break\n",
    "    else\n",
    "        add to log file: \"Test 2/4: OK.\"\n",
    "        continue\n",
    "\n",
    "3. $input_tsv_table file structure is correct (it has correct header)\n",
    "    if header is not correct:\n",
    "        ptint \"Error: $input_tsv_table seems wrong. Please, change it.\"\n",
    "        add error message in log file\n",
    "        return help desctiption\n",
    "        break\n",
    "    else\n",
    "        add to log file: \"Test 3/4: OK.\"\n",
    "        continue\n",
    "\n",
    "4. Check that reference genomes (and indexes) are available (by default all references are in the path: /ref/GRCh38.d1.vd1_mainChr/sepChrs/)\n",
    "    for i in (1..22); do\n",
    "    \tstr ChromosomeNumber = 'chr' + $i # make a string like 'chr1'\n",
    "        check $ChromosomeNumber.fai is available in the path\n",
    "            if not: \n",
    "                print: \"Error: couldn't find reference genome or index files for $ChromosomeNumber. Pleace, check references and run the script again\"\n",
    "                add error message in log file\n",
    "                return help desctiption\n",
    "                break\n",
    "            if yes: \n",
    "                continue\n",
    "    done\n",
    "    add to log file: \"Test 4/4: OK.\"\n",
    "\n",
    "print \"[$current_time_and_date]: Arguments and references are correct! Continue analysis.\" -> add to log file"
   ]
  },
  {
   "cell_type": "markdown",
   "id": "c1b71a7c-dced-4f66-ab6b-775a67c653ac",
   "metadata": {},
   "source": [
    "### Выполнение основной части скрипта:"
   ]
  },
  {
   "cell_type": "code",
   "execution_count": null,
   "id": "f7d2f07b-f926-4318-8245-b797a0ab9ce5",
   "metadata": {},
   "outputs": [],
   "source": [
    "Create an OutputTable: $output_filename + '.tsv' extention\n",
    "for i in (1..22); do\n",
    "    print \"[$current_time_and_date]: Work with the chromosome $i.\" -> add to log file\n",
    "\tstr ChromosomeNumber = 'chr' + $i # make a string like 'chr1'\n",
    "\tFP_SNPs_$ChromosomeNumber.tsv # create a temporary table 'FP_SNPs_$ChromosomeNumber.tsv' for one chromosome and copy rows related to $ChromosomeNumber from $input_tsv_table to 'FP_SNPs_$ChromosomeNumber.tsv'\n",
    "\tint RowsNumber = count number of rows in FP_SNPs_$ChromosomeNumber.tsv\n",
    "\tint ErrorRowsNumber = 0 # will be used to count SNPs where we couldn't define reference allele\n",
    "    str RefGenome = .../$ChromosomeNumber.fai # go to /ref/GRCh38.d1.vd1_mainChr/sepChrs/ (by fefault) and select one referehce related to $ChromosomeNumber\n",
    "    \n",
    "\tfor line in (1..$RowsNumber); do\n",
    "\t\tint POS = ... # select POS on $line from FP_SNPs_$ChromosomeNumber.tsv\n",
    "\t\tstr Allele1 = ... # select allele1 on $line from FP_SNPs_$ChromosomeNumber.tsv\n",
    "\t\tstr Allele2 = ... # select allele2 on $line from FP_SNPs_$ChromosomeNumber.tsv\n",
    "\t\tstr ID = ... # select ID on $line from FP_SNPs_$ChromosomeNumber.tsv\n",
    "\n",
    "        str RefNucl = ... # select $RefGenome nucleotide on position $POS\n",
    "\t\t\n",
    "\t\t# Для каждой позиции $POS из FP_SNPs_$ChromosomeNumber.tsv\n",
    "        # последовательно сравниваем нуклеотид на этой позиции в референсе $RefNucl с $Allele1 и $Allele2\n",
    "\t\t\n",
    "\t\tif $RefNucl == $Allele1 \n",
    "    \t\tstr REF = $Allele1 \n",
    "    \t\tstr ALT = $Allele2\n",
    "    \t\tЗаписываем в $OutputTable строку, содержащую $ChromosomeNumber, $POS, $ID, $REF, $ALT\n",
    "\t\telif $RefNucl == $Allele2\n",
    "    \t\tstr REF = $Allele2\n",
    "    \t\tstr ALT = $Allele1\n",
    "    \t\tЗаписываем в $OutputTable строку, содержащую $ChromosomeNumber, $POS, $ID, $REF, $ALT\n",
    "\t\telse # $RefNucl doesn't match any of alleles from the table\n",
    "    \t\tAdd to log: \"ERROR: reference nucleotide on the $ChromosomeNumber position $POS differs from the input table ($input_tsv_table) \\\n",
    "                            Nucleotide on the reference: $RefNucl; in the table: allele1 - $Allele1, allele2 -  $Allele2\"\n",
    "            $ErrorRowsNumber += 1\n",
    "\tdone\n",
    "\n",
    "\tprint \"[$current_time_and_date]: $ChromosomeNumber: ($RowsNumber - $ErrorRowsNumber) out of $RowsNumber SNP positions were recognised. \\\n",
    "                Some problems occured for $ErrorRowsNumber SNP positions.\" -> add to log file\n",
    "\trm FP_SNPs_$ChromosomeNumber.tsv\n",
    "\n",
    "done"
   ]
  },
  {
   "cell_type": "markdown",
   "id": "d06aebc9-1554-4019-a6d7-2cb9f7f32c9c",
   "metadata": {},
   "source": [
    "### Сообщение, выдаваемое скриптом для описания себя и своих аргументов по запросу (-h, --help)"
   ]
  },
  {
   "cell_type": "code",
   "execution_count": null,
   "id": "b0648077-cf2c-4d0a-9899-6bb1be2c1d34",
   "metadata": {},
   "outputs": [],
   "source": [
    "findAlternative.py -i input_table.tsv -o output_filename"
   ]
  },
  {
   "cell_type": "markdown",
   "id": "a92bf030-81e2-409d-a91f-54332b336154",
   "metadata": {},
   "source": [
    "##### Options:"
   ]
  },
  {
   "cell_type": "code",
   "execution_count": null,
   "id": "4a7d2c1c-b1c3-40b7-a268-b7c95f088c3b",
   "metadata": {},
   "outputs": [],
   "source": [
    "-h, --help          show this help message and exit\n",
    "-i INPUT, --input INPUT\n",
    "                    input table with FP SNPs. Should be in tsv format.\n",
    "-o OUTPUT, --output OUTPUT\n",
    "                    name for output file. No extention needed!\n",
    "-r path/to/refs, --ref path/to/refs\n",
    "                    path to folder with reference genomes (default: /ref/GRCh38.d1.vd1_mainChr/sepChrs/)"
   ]
  },
  {
   "cell_type": "markdown",
   "id": "075c63e5-50ae-4114-a36f-f280994c69b7",
   "metadata": {},
   "source": [
    "By default, the script utilizes prepared in advance individual references for each chromosome. These references and indexes are located in the folder:\n",
    "/ref/GRCh38.d1.vd1_mainChr/sepChrs/"
   ]
  }
 ],
 "metadata": {
  "kernelspec": {
   "display_name": "Python 3 (ipykernel)",
   "language": "python",
   "name": "python3"
  },
  "language_info": {
   "codemirror_mode": {
    "name": "ipython",
    "version": 3
   },
   "file_extension": ".py",
   "mimetype": "text/x-python",
   "name": "python",
   "nbconvert_exporter": "python",
   "pygments_lexer": "ipython3",
   "version": "3.10.12"
  }
 },
 "nbformat": 4,
 "nbformat_minor": 5
}
